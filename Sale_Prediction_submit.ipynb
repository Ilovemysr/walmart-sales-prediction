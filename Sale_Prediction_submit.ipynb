{
 "cells": [
  {
   "cell_type": "code",
   "execution_count": 1,
   "metadata": {},
   "outputs": [],
   "source": [
    "import numpy as np # linear algebra\n",
    "import pandas as pd # data processing, CSV file I/O (e.g. pd.read_csv)\n",
    "import seaborn as sns; sns.set(style=\"ticks\", color_codes=True)\n",
    "from sklearn.model_selection import train_test_split\n",
    "from sklearn.preprocessing import StandardScaler\n",
    "from sklearn.ensemble import ExtraTreesRegressor, RandomForestRegressor\n",
    "from sklearn.feature_selection import RFE\n",
    "from sklearn.metrics import mean_absolute_error\n",
    "from sklearn.model_selection import KFold\n",
    "import matplotlib.pyplot as plt\n",
    "from sklearn.model_selection import GridSearchCV, RandomizedSearchCV\n",
    "import matplotlib.pyplot as plt"
   ]
  },
  {
   "cell_type": "code",
   "execution_count": 2,
   "metadata": {},
   "outputs": [],
   "source": [
    "feature = pd.read_csv(\"./features.csv.zip\", parse_dates=True)\n",
    "stores = pd.read_csv(\"./stores.csv\")\n",
    "train = pd.read_csv(\"./train.csv.zip\", parse_dates=True)\n",
    "test = pd.read_csv(\"./test.csv.zip\", parse_dates=True)\n",
    "sample = pd.read_csv(\"./sampleSubmission.csv.zip\")"
   ]
  },
  {
   "cell_type": "code",
   "execution_count": 3,
   "metadata": {},
   "outputs": [],
   "source": [
    "#featurization\n",
    "for store_num, df in feature.groupby([\"Store\"]):\n",
    "    df = df.fillna(df.mean())\n",
    "    feature = feature.fillna(df)\n",
    "train_all = pd.merge(pd.merge(train, stores), feature)\n",
    "test_all = pd.merge(pd.merge(test, stores), feature)\n",
    "train_all['Split'] = 'Train'\n",
    "test_all['Split'] = 'Test'\n",
    "X_all = pd.concat([train_all, test_all], sort=False, ignore_index=False)"
   ]
  },
  {
   "cell_type": "code",
   "execution_count": 4,
   "metadata": {},
   "outputs": [],
   "source": [
    "X_all['Temperature'] = (X_all['Temperature'] - 32) * 5/9\n",
    "train_all.Date = pd.to_datetime(train_all.Date)\n",
    "train_all[\"Year\"] = train_all.Date.dt.year\n",
    "train_all[\"Week\"] = train_all.Date.dt.week\n",
    "test_all.Date = pd.to_datetime(test_all.Date)\n",
    "test_all[\"Year\"] = test_all.Date.dt.year\n",
    "test_all[\"Week\"] = test_all.Date.dt.week\n",
    "X_all.Date = pd.to_datetime(X_all.Date)\n",
    "X_all[\"Year\"] = X_all.Date.dt.year\n",
    "X_all[\"Week\"] = X_all.Date.dt.week\n",
    "X_all[\"BeforeChristmas\"] = X_all.Week == 51\n",
    "X_all[\"InThanksGiving\"] = X_all.Week == 47\n",
    "X_all.drop([\"Date\"], axis=1, inplace=True)\n",
    "\n",
    "X_dummied = pd.get_dummies(X_all, columns=[\"IsHoliday\", \"Type\", \"BeforeChristmas\", \"InThanksGiving\"])\n",
    "X_dummied = pd.get_dummies(X_all, columns=[\"Type\"])\n",
    "\n",
    "train_all_sorted = train_all.sort_values([\"Store\", \"Dept\", \"Year\", \"Week\"])\n",
    "test_all_sorted = test_all.sort_values([\"Store\", \"Dept\", \"Year\", \"Week\"])\n",
    "X_dummied_sorted = X_dummied.sort_values([\"Store\", \"Dept\", \"Year\", \"Week\"])\n",
    "\n",
    "train_prosecced = X_dummied_sorted[X_dummied_sorted.Split == \"Train\"].drop([\"Split\"], axis=1)\n",
    "test_prosecced = X_dummied_sorted[X_dummied_sorted.Split == \"Test\"].drop([\"Split\"], axis=1)\n",
    "\n",
    "train_X = train_prosecced.drop([\"Weekly_Sales\"], axis=1)\n",
    "train_y = train_prosecced.Weekly_Sales\n",
    "test_X = test_prosecced.drop([\"Weekly_Sales\"], axis=1)"
   ]
  },
  {
   "cell_type": "code",
   "execution_count": null,
   "metadata": {},
   "outputs": [],
   "source": [
    "rfr = RandomForestRegressor(n_estimators=100, verbose=0, n_jobs=30)\n",
    "rfr.fit(train_X, train_y)"
   ]
  },
  {
   "cell_type": "code",
   "execution_count": 6,
   "metadata": {},
   "outputs": [
    {
     "data": {
      "text/plain": [
       "0.9965441038174071"
      ]
     },
     "execution_count": 6,
     "metadata": {},
     "output_type": "execute_result"
    }
   ],
   "source": [
    "rfr.score(train_X, train_y)"
   ]
  },
  {
   "cell_type": "code",
   "execution_count": 8,
   "metadata": {},
   "outputs": [],
   "source": [
    "pred = rfr.predict(test_X)\n",
    "sample.Weekly_Sales = pred\n",
    "sample.to_csv(\"./rfr.csv\", index=False)"
   ]
  },
  {
   "cell_type": "markdown",
   "metadata": {},
   "source": [
    "3953.87"
   ]
  },
  {
   "cell_type": "code",
   "execution_count": 5,
   "metadata": {
    "scrolled": true
   },
   "outputs": [
    {
     "data": {
      "text/plain": [
       "ExtraTreesRegressor(bootstrap=False, criterion='mse', max_depth=None,\n",
       "          max_features='auto', max_leaf_nodes=None,\n",
       "          min_impurity_decrease=0.0, min_impurity_split=None,\n",
       "          min_samples_leaf=1, min_samples_split=2,\n",
       "          min_weight_fraction_leaf=0.0, n_estimators=100, n_jobs=30,\n",
       "          oob_score=False, random_state=None, verbose=0, warm_start=False)"
      ]
     },
     "execution_count": 5,
     "metadata": {},
     "output_type": "execute_result"
    }
   ],
   "source": [
    "etr = ExtraTreesRegressor(n_estimators=100, verbose=0, n_jobs=30)\n",
    "etr.fit(train_X, train_y)"
   ]
  },
  {
   "cell_type": "code",
   "execution_count": 6,
   "metadata": {
    "scrolled": false
   },
   "outputs": [
    {
     "data": {
      "text/plain": [
       "0.9999999999909742"
      ]
     },
     "execution_count": 6,
     "metadata": {},
     "output_type": "execute_result"
    }
   ],
   "source": [
    "etr.score(train_X, train_y)"
   ]
  },
  {
   "cell_type": "code",
   "execution_count": 7,
   "metadata": {},
   "outputs": [],
   "source": [
    "pred = etr.predict(test_X)\n",
    "sample.Weekly_Sales = pred\n",
    "sample.to_csv(\"./etr.csv\", index=False)#2908.87"
   ]
  },
  {
   "cell_type": "code",
   "execution_count": 8,
   "metadata": {},
   "outputs": [
    {
     "data": {
      "text/plain": [
       "<matplotlib.collections.PathCollection at 0x7f30bdb6a668>"
      ]
     },
     "execution_count": 8,
     "metadata": {},
     "output_type": "execute_result"
    },
    {
     "data": {
      "image/png": "[encoded data removed]",
      "text/plain": [
       "<Figure size 432x288 with 1 Axes>"
      ]
     },
     "metadata": {},
     "output_type": "display_data"
    }
   ],
   "source": [
    "plt.scatter(train_y, etr.predict(train_X))"
   ]
  },
  {
   "cell_type": "code",
   "execution_count": 35,
   "metadata": {},
   "outputs": [],
   "source": [
    "from sklearn.model_selection import RandomizedSearchCV\n",
    "n_estimators = [int(x) for x in np.linspace(start = 200, stop = 2000, num = 10)]\n",
    "max_depth = [int(x) for x in np.linspace(10, 110, num = 11)]\n",
    "max_depth.append(None)\n",
    "min_samples_split = [2, 5]\n",
    "min_samples_leaf = [1, 2]\n",
    "bootstrap = [True, False]\n",
    "# Create the random grid\n",
    "# random_grid = {'n_estimators': n_estimators,\n",
    "#                'max_depth': max_depth,\n",
    "#                'min_samples_split': min_samples_split,\n",
    "#                'min_samples_leaf': min_samples_leaf,\n",
    "#                'bootstrap': bootstrap}\n",
    "\n",
    "random_grid = {'min_samples_split': min_samples_split,\n",
    "               'min_samples_leaf': min_samples_leaf,\n",
    "               'bootstrap': bootstrap}"
   ]
  },
  {
   "cell_type": "code",
   "execution_count": 36,
   "metadata": {
    "scrolled": true
   },
   "outputs": [],
   "source": [
    "etr = ExtraTreesRegressor(n_estimators=100, verbose=0, n_jobs=30)\n",
    "etr_random = RandomizedSearchCV(estimator = etr, param_distributions = random_grid, n_iter = 8, cv = 5, verbose=2, \n",
    "                                random_state=42, n_jobs = 1)"
   ]
  },
  {
   "cell_type": "code",
   "execution_count": 37,
   "metadata": {
    "scrolled": true
   },
   "outputs": [
    {
     "name": "stdout",
     "output_type": "stream",
     "text": [
      "Fitting 5 folds for each of 8 candidates, totalling 40 fits\n",
      "[CV] min_samples_split=2, min_samples_leaf=1, bootstrap=True .........\n",
      "[CV]  min_samples_split=2, min_samples_leaf=1, bootstrap=True, total=   7.8s\n"
     ]
    },
    {
     "name": "stderr",
     "output_type": "stream",
     "text": [
      "[Parallel(n_jobs=1)]: Done   1 out of   1 | elapsed:    8.9s remaining:    0.0s\n"
     ]
    },
    {
     "name": "stdout",
     "output_type": "stream",
     "text": [
      "[CV] min_samples_split=2, min_samples_leaf=1, bootstrap=True .........\n",
      "[CV]  min_samples_split=2, min_samples_leaf=1, bootstrap=True, total=   7.7s\n",
      "[CV] min_samples_split=2, min_samples_leaf=1, bootstrap=True .........\n",
      "[CV]  min_samples_split=2, min_samples_leaf=1, bootstrap=True, total=   7.7s\n",
      "[CV] min_samples_split=2, min_samples_leaf=1, bootstrap=True .........\n",
      "[CV]  min_samples_split=2, min_samples_leaf=1, bootstrap=True, total=   7.7s\n",
      "[CV] min_samples_split=2, min_samples_leaf=1, bootstrap=True .........\n",
      "[CV]  min_samples_split=2, min_samples_leaf=1, bootstrap=True, total=   8.0s\n",
      "[CV] min_samples_split=5, min_samples_leaf=1, bootstrap=True .........\n",
      "[CV]  min_samples_split=5, min_samples_leaf=1, bootstrap=True, total=   7.5s\n",
      "[CV] min_samples_split=5, min_samples_leaf=1, bootstrap=True .........\n",
      "[CV]  min_samples_split=5, min_samples_leaf=1, bootstrap=True, total=   7.7s\n",
      "[CV] min_samples_split=5, min_samples_leaf=1, bootstrap=True .........\n",
      "[CV]  min_samples_split=5, min_samples_leaf=1, bootstrap=True, total=   7.2s\n",
      "[CV] min_samples_split=5, min_samples_leaf=1, bootstrap=True .........\n",
      "[CV]  min_samples_split=5, min_samples_leaf=1, bootstrap=True, total=   6.7s\n",
      "[CV] min_samples_split=5, min_samples_leaf=1, bootstrap=True .........\n",
      "[CV]  min_samples_split=5, min_samples_leaf=1, bootstrap=True, total=   6.7s\n",
      "[CV] min_samples_split=2, min_samples_leaf=2, bootstrap=True .........\n",
      "[CV]  min_samples_split=2, min_samples_leaf=2, bootstrap=True, total=   6.9s\n",
      "[CV] min_samples_split=2, min_samples_leaf=2, bootstrap=True .........\n",
      "[CV]  min_samples_split=2, min_samples_leaf=2, bootstrap=True, total=   7.4s\n",
      "[CV] min_samples_split=2, min_samples_leaf=2, bootstrap=True .........\n",
      "[CV]  min_samples_split=2, min_samples_leaf=2, bootstrap=True, total=   7.4s\n",
      "[CV] min_samples_split=2, min_samples_leaf=2, bootstrap=True .........\n",
      "[CV]  min_samples_split=2, min_samples_leaf=2, bootstrap=True, total=   7.2s\n",
      "[CV] min_samples_split=2, min_samples_leaf=2, bootstrap=True .........\n",
      "[CV]  min_samples_split=2, min_samples_leaf=2, bootstrap=True, total=   7.0s\n",
      "[CV] min_samples_split=5, min_samples_leaf=2, bootstrap=True .........\n",
      "[CV]  min_samples_split=5, min_samples_leaf=2, bootstrap=True, total=   7.3s\n",
      "[CV] min_samples_split=5, min_samples_leaf=2, bootstrap=True .........\n",
      "[CV]  min_samples_split=5, min_samples_leaf=2, bootstrap=True, total=   6.7s\n",
      "[CV] min_samples_split=5, min_samples_leaf=2, bootstrap=True .........\n",
      "[CV]  min_samples_split=5, min_samples_leaf=2, bootstrap=True, total=   5.8s\n",
      "[CV] min_samples_split=5, min_samples_leaf=2, bootstrap=True .........\n",
      "[CV]  min_samples_split=5, min_samples_leaf=2, bootstrap=True, total=   6.0s\n",
      "[CV] min_samples_split=5, min_samples_leaf=2, bootstrap=True .........\n",
      "[CV]  min_samples_split=5, min_samples_leaf=2, bootstrap=True, total=   6.8s\n",
      "[CV] min_samples_split=2, min_samples_leaf=1, bootstrap=False ........\n",
      "[CV]  min_samples_split=2, min_samples_leaf=1, bootstrap=False, total=  11.4s\n",
      "[CV] min_samples_split=2, min_samples_leaf=1, bootstrap=False ........\n",
      "[CV]  min_samples_split=2, min_samples_leaf=1, bootstrap=False, total=  10.5s\n",
      "[CV] min_samples_split=2, min_samples_leaf=1, bootstrap=False ........\n",
      "[CV]  min_samples_split=2, min_samples_leaf=1, bootstrap=False, total=  10.8s\n",
      "[CV] min_samples_split=2, min_samples_leaf=1, bootstrap=False ........\n",
      "[CV]  min_samples_split=2, min_samples_leaf=1, bootstrap=False, total=  10.9s\n",
      "[CV] min_samples_split=2, min_samples_leaf=1, bootstrap=False ........\n",
      "[CV]  min_samples_split=2, min_samples_leaf=1, bootstrap=False, total=  10.4s\n",
      "[CV] min_samples_split=5, min_samples_leaf=1, bootstrap=False ........\n",
      "[CV]  min_samples_split=5, min_samples_leaf=1, bootstrap=False, total=   9.3s\n",
      "[CV] min_samples_split=5, min_samples_leaf=1, bootstrap=False ........\n",
      "[CV]  min_samples_split=5, min_samples_leaf=1, bootstrap=False, total=   8.6s\n",
      "[CV] min_samples_split=5, min_samples_leaf=1, bootstrap=False ........\n",
      "[CV]  min_samples_split=5, min_samples_leaf=1, bootstrap=False, total=   8.5s\n",
      "[CV] min_samples_split=5, min_samples_leaf=1, bootstrap=False ........\n",
      "[CV]  min_samples_split=5, min_samples_leaf=1, bootstrap=False, total=   9.1s\n",
      "[CV] min_samples_split=5, min_samples_leaf=1, bootstrap=False ........\n",
      "[CV]  min_samples_split=5, min_samples_leaf=1, bootstrap=False, total=   9.7s\n",
      "[CV] min_samples_split=2, min_samples_leaf=2, bootstrap=False ........\n",
      "[CV]  min_samples_split=2, min_samples_leaf=2, bootstrap=False, total=   9.7s\n",
      "[CV] min_samples_split=2, min_samples_leaf=2, bootstrap=False ........\n",
      "[CV]  min_samples_split=2, min_samples_leaf=2, bootstrap=False, total=   8.6s\n",
      "[CV] min_samples_split=2, min_samples_leaf=2, bootstrap=False ........\n",
      "[CV]  min_samples_split=2, min_samples_leaf=2, bootstrap=False, total=   9.7s\n",
      "[CV] min_samples_split=2, min_samples_leaf=2, bootstrap=False ........\n",
      "[CV]  min_samples_split=2, min_samples_leaf=2, bootstrap=False, total=   8.5s\n",
      "[CV] min_samples_split=2, min_samples_leaf=2, bootstrap=False ........\n",
      "[CV]  min_samples_split=2, min_samples_leaf=2, bootstrap=False, total=  10.5s\n",
      "[CV] min_samples_split=5, min_samples_leaf=2, bootstrap=False ........\n",
      "[CV]  min_samples_split=5, min_samples_leaf=2, bootstrap=False, total=   9.5s\n",
      "[CV] min_samples_split=5, min_samples_leaf=2, bootstrap=False ........\n",
      "[CV]  min_samples_split=5, min_samples_leaf=2, bootstrap=False, total=   8.6s\n",
      "[CV] min_samples_split=5, min_samples_leaf=2, bootstrap=False ........\n",
      "[CV]  min_samples_split=5, min_samples_leaf=2, bootstrap=False, total=   8.7s\n",
      "[CV] min_samples_split=5, min_samples_leaf=2, bootstrap=False ........\n",
      "[CV]  min_samples_split=5, min_samples_leaf=2, bootstrap=False, total=   8.9s\n",
      "[CV] min_samples_split=5, min_samples_leaf=2, bootstrap=False ........\n",
      "[CV]  min_samples_split=5, min_samples_leaf=2, bootstrap=False, total=   8.7s\n"
     ]
    },
    {
     "name": "stderr",
     "output_type": "stream",
     "text": [
      "[Parallel(n_jobs=1)]: Done  40 out of  40 | elapsed:  6.5min finished\n"
     ]
    },
    {
     "data": {
      "text/plain": [
       "RandomizedSearchCV(cv=5, error_score='raise',\n",
       "          estimator=ExtraTreesRegressor(bootstrap=False, criterion='mse', max_depth=None,\n",
       "          max_features='auto', max_leaf_nodes=None,\n",
       "          min_impurity_decrease=0.0, min_impurity_split=None,\n",
       "          min_samples_leaf=1, min_samples_split=2,\n",
       "          min_weight_fraction_leaf=0.0, n_estimators=100, n_jobs=30,\n",
       "          oob_score=False, random_state=None, verbose=0, warm_start=False),\n",
       "          fit_params=None, iid=True, n_iter=8, n_jobs=1,\n",
       "          param_distributions={'min_samples_split': [2, 5], 'min_samples_leaf': [1, 2], 'bootstrap': [True, False]},\n",
       "          pre_dispatch='2*n_jobs', random_state=42, refit=True,\n",
       "          return_train_score='warn', scoring=None, verbose=2)"
      ]
     },
     "execution_count": 37,
     "metadata": {},
     "output_type": "execute_result"
    }
   ],
   "source": [
    "etr_random.fit(train_X, train_y)"
   ]
  },
  {
   "cell_type": "code",
   "execution_count": 38,
   "metadata": {},
   "outputs": [
    {
     "data": {
      "text/plain": [
       "ExtraTreesRegressor(bootstrap=False, criterion='mse', max_depth=None,\n",
       "          max_features='auto', max_leaf_nodes=None,\n",
       "          min_impurity_decrease=0.0, min_impurity_split=None,\n",
       "          min_samples_leaf=1, min_samples_split=5,\n",
       "          min_weight_fraction_leaf=0.0, n_estimators=100, n_jobs=30,\n",
       "          oob_score=False, random_state=None, verbose=0, warm_start=False)"
      ]
     },
     "execution_count": 38,
     "metadata": {},
     "output_type": "execute_result"
    }
   ],
   "source": [
    "etr_random.best_estimator_"
   ]
  },
  {
   "cell_type": "code",
   "execution_count": 39,
   "metadata": {},
   "outputs": [],
   "source": [
    "etr_random_best = ExtraTreesRegressor(bootstrap=False, criterion='mse', max_depth=None,\n",
    "          max_features='auto', max_leaf_nodes=None,\n",
    "          min_impurity_decrease=0.0, min_impurity_split=None,\n",
    "          min_samples_leaf=1, min_samples_split=5,\n",
    "          min_weight_fraction_leaf=0.0, n_estimators=1000, n_jobs=30,\n",
    "          oob_score=False, random_state=None, verbose=0, warm_start=False)"
   ]
  },
  {
   "cell_type": "code",
   "execution_count": 40,
   "metadata": {
    "scrolled": true
   },
   "outputs": [
    {
     "data": {
      "text/plain": [
       "ExtraTreesRegressor(bootstrap=False, criterion='mse', max_depth=None,\n",
       "          max_features='auto', max_leaf_nodes=None,\n",
       "          min_impurity_decrease=0.0, min_impurity_split=None,\n",
       "          min_samples_leaf=1, min_samples_split=5,\n",
       "          min_weight_fraction_leaf=0.0, n_estimators=1000, n_jobs=30,\n",
       "          oob_score=False, random_state=None, verbose=0, warm_start=False)"
      ]
     },
     "execution_count": 40,
     "metadata": {},
     "output_type": "execute_result"
    }
   ],
   "source": [
    "etr_random_best.fit(train_X, train_y)"
   ]
  },
  {
   "cell_type": "code",
   "execution_count": 42,
   "metadata": {},
   "outputs": [
    {
     "data": {
      "text/plain": [
       "0.9961360158987796"
      ]
     },
     "execution_count": 42,
     "metadata": {},
     "output_type": "execute_result"
    }
   ],
   "source": [
    "etr_random_best.score(train_X, train_y)"
   ]
  },
  {
   "cell_type": "code",
   "execution_count": 43,
   "metadata": {},
   "outputs": [],
   "source": [
    "pred = etr_random_best.predict(test_X)\n",
    "sample.Weekly_Sales = pred\n",
    "sample.to_csv(\"./etr_randomsearch.csv\", index=False)"
   ]
  },
  {
   "cell_type": "code",
   "execution_count": 8,
   "metadata": {},
   "outputs": [],
   "source": [
    "etr = ExtraTreesRegressor(n_estimators=1000, verbose=1, n_jobs=20)"
   ]
  },
  {
   "cell_type": "code",
   "execution_count": 9,
   "metadata": {},
   "outputs": [
    {
     "name": "stderr",
     "output_type": "stream",
     "text": [
      "[Parallel(n_jobs=20)]: Done  10 tasks      | elapsed:    3.2s\n",
      "[Parallel(n_jobs=20)]: Done 160 tasks      | elapsed:   24.1s\n",
      "[Parallel(n_jobs=20)]: Done 410 tasks      | elapsed:   58.2s\n",
      "[Parallel(n_jobs=20)]: Done 760 tasks      | elapsed:  4.7min\n",
      "[Parallel(n_jobs=20)]: Done 1000 out of 1000 | elapsed:  6.2min finished\n"
     ]
    },
    {
     "data": {
      "text/plain": [
       "ExtraTreesRegressor(bootstrap=False, criterion='mse', max_depth=None,\n",
       "          max_features='auto', max_leaf_nodes=None,\n",
       "          min_impurity_decrease=0.0, min_impurity_split=None,\n",
       "          min_samples_leaf=1, min_samples_split=2,\n",
       "          min_weight_fraction_leaf=0.0, n_estimators=1000, n_jobs=20,\n",
       "          oob_score=False, random_state=None, verbose=1, warm_start=False)"
      ]
     },
     "execution_count": 9,
     "metadata": {},
     "output_type": "execute_result"
    }
   ],
   "source": [
    "etr.fit(train_X, train_y)"
   ]
  },
  {
   "cell_type": "code",
   "execution_count": 10,
   "metadata": {
    "scrolled": true
   },
   "outputs": [
    {
     "name": "stderr",
     "output_type": "stream",
     "text": [
      "[Parallel(n_jobs=20)]: Done  10 tasks      | elapsed:    0.6s\n",
      "[Parallel(n_jobs=20)]: Done 160 tasks      | elapsed:    0.9s\n",
      "[Parallel(n_jobs=20)]: Done 410 tasks      | elapsed:    1.5s\n",
      "[Parallel(n_jobs=20)]: Done 760 tasks      | elapsed:    2.2s\n",
      "[Parallel(n_jobs=20)]: Done 1000 out of 1000 | elapsed:    2.7s finished\n"
     ]
    }
   ],
   "source": [
    "pred = etr.predict(test_X)\n",
    "sample.Weekly_Sales = pred\n",
    "sample.to_csv(\"./etr_n_estimators=1000.csv\", index=False)#2892.23"
   ]
  }
 ],
 "metadata": {
  "kernelspec": {
   "display_name": "Python 3",
   "language": "python",
   "name": "python3"
  },
  "language_info": {
   "codemirror_mode": {
    "name": "ipython",
    "version": 3
   },
   "file_extension": ".py",
   "mimetype": "text/x-python",
   "name": "python",
   "nbconvert_exporter": "python",
   "pygments_lexer": "ipython3",
   "version": "3.6.5"
  }
 },
 "nbformat": 4,
 "nbformat_minor": 2
}
